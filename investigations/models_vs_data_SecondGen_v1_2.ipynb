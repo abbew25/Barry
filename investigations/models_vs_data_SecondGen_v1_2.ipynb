{
 "cells": [
  {
   "cell_type": "markdown",
   "id": "0beb15cd-5ce5-456b-97f0-c24034b7b256",
   "metadata": {},
   "source": [
    "# set up "
   ]
  },
  {
   "cell_type": "code",
   "execution_count": 1,
   "id": "11b95a02-0862-485d-a3c8-fe4e5c912725",
   "metadata": {
    "tags": []
   },
   "outputs": [],
   "source": [
    "import sys\n",
    "import os\n",
    "\n",
    "# this is Cullan's code to run and plot the second gen mocks with all appropriate settings \n",
    "\n",
    "sys.path.append(\"..\")\n",
    "sys.path.append(\"../..\")\n",
    "sys.path.append(\"../../Barry/\")\n",
    "from barry.samplers import NautilusSampler\n",
    "from barry.config import setup\n",
    "from barry.models import PowerBeutler2017, CorrBeutler2017\n",
    "from barry.datasets.dataset_power_spectrum import PowerSpectrum_DESI_KP4\n",
    "from barry.datasets.dataset_correlation_function import CorrelationFunction_DESI_KP4\n",
    "from barry.fitter import Fitter\n",
    "import numpy as np\n",
    "import scipy as sp\n",
    "import pandas as pd\n",
    "from barry.models.model import Correction\n",
    "from barry.utils import weighted_avg_and_cov\n",
    "import matplotlib.colors as mplc\n",
    "import matplotlib.pyplot as plt\n",
    "import pickle"
   ]
  },
  {
   "cell_type": "markdown",
   "id": "32fb3e22-2e57-4a2a-a629-ab113adffdc3",
   "metadata": {
    "tags": []
   },
   "source": [
    "# read in data for mock means "
   ]
  },
  {
   "cell_type": "code",
   "execution_count": null,
   "id": "0ab9fa21-2da3-4d38-9395-1ac1150464ad",
   "metadata": {},
   "outputs": [],
   "source": [
    "# post recon, pk, spline \n",
    "\n",
    "datafile_postpk_BGS=\"desi_kp4_abacus_cubicbox_pk_elg.pkl\"\n",
    "datafile_postxi_BGS=\"desi_kp4_abacus_cubicbox_pk_elg.pkl\"\n",
    "\n",
    "dataset_pk = PowerSpectrum_DESI_KP4(\n",
    "recon='sym',\n",
    "fit_poles=[0, 2],\n",
    "min_k=0.02,\n",
    "max_k=0.30,\n",
    "realisation=None,          # realisation=None loads the average of all the realisations\n",
    "num_mocks=1000,            # Used for Hartlap/Sellentin correction if correction=Correction.HARTLAP or Correction.SELLENTIN\n",
    "reduce_cov_factor=25,       # if = 1 Use standard covariance, even for the average\n",
    "datafile=datafile,#\"desi_kp4_abacus_cubicbox_pk_elg.pkl\",\n",
    "#datafile=\"desi_kp4_abacus_cubicbox_cv_pk_elg.pkl\",   \n",
    "data_location=\"/global/u1/a/abbew25/barryrepo/Barry/cosmodesi_KP4ELG_examplecode_make_picklefiles\",\n",
    ")\n",
    "\n",
    "\n",
    "\n"
   ]
  }
 ],
 "metadata": {
  "kernelspec": {
   "display_name": "barry_env_desiproject_aw",
   "language": "python",
   "name": "barry_env_desiproject_aw"
  },
  "language_info": {
   "codemirror_mode": {
    "name": "ipython",
    "version": 3
   },
   "file_extension": ".py",
   "mimetype": "text/x-python",
   "name": "python",
   "nbconvert_exporter": "python",
   "pygments_lexer": "ipython3",
   "version": "3.11.8"
  }
 },
 "nbformat": 4,
 "nbformat_minor": 5
}
