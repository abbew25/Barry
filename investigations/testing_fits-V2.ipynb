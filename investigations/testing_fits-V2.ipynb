{
 "cells": [
  {
   "cell_type": "markdown",
   "id": "9ed0db29-1981-497a-a72f-3a64b6820407",
   "metadata": {},
   "source": [
    "# Plotting and comparing best fit models to data for fits to BAOs with and without the phase shift parameter "
   ]
  },
  {
   "cell_type": "markdown",
   "id": "6f9a6d09-fe86-4876-b6fa-de864925d120",
   "metadata": {
    "tags": []
   },
   "source": [
    "### load stuff "
   ]
  },
  {
   "cell_type": "code",
   "execution_count": 1,
   "id": "f4f83899-78ff-4ce1-873f-76f70b3a562a",
   "metadata": {
    "tags": []
   },
   "outputs": [],
   "source": [
    "# Import some necessary modules\n",
    "import os\n",
    "import sys\n",
    "sys.path.append(\"../../Barry/\")     # Change this so that it points to where you have Barry installed\n",
    "import pickle\n",
    "import logging\n",
    "import numpy as np\n",
    "import pandas as pd\n",
    "import matplotlib.pyplot as plt\n",
    "from chainconsumer import ChainConsumer     \n",
    "from barry.cosmology.camb_generator import Omega_m_z\n",
    "\n",
    "\n",
    "from barry.samplers import DynestySampler\n",
    "from barry.config import setup\n",
    "from barry.models import PowerBeutler2017, CorrBeutler2017\n",
    "from barry.datasets.dataset_power_spectrum import PowerSpectrum_DESI_KP4\n",
    "from barry.datasets.dataset_correlation_function import CorrelationFunction_DESI_KP4\n",
    "from barry.fitter import Fitter\n",
    "from barry.models.model import Correction # class for applying corrections to the likelihood function \n",
    "from barry.utils import weighted_avg_and_cov # function for getting avg and covariance \n",
    "\n",
    "# settings \n",
    "CV = True "
   ]
  },
  {
   "cell_type": "markdown",
   "id": "944a2bde-39ff-4441-8015-e43759c37dc5",
   "metadata": {},
   "source": [
    "### load in the data "
   ]
  },
  {
   "cell_type": "code",
   "execution_count": 3,
   "id": "0a5c7b0a-8d77-44dd-ab26-571ac770c057",
   "metadata": {
    "tags": []
   },
   "outputs": [],
   "source": [
    "\n",
    "datafile=\"desi_kp4_abacus_cubicbox_pk_elg.pkl\"\n",
    "\n",
    "if CV:\n",
    "    datafile=\"desi_kp4_abacus_cubicbox_cv_pk_elg.pkl\"\n",
    "\n",
    "\n",
    "dataset_pk = PowerSpectrum_DESI_KP4(\n",
    "recon='sym',\n",
    "fit_poles=[0, 2],\n",
    "min_k=0.02,\n",
    "max_k=0.30,\n",
    "realisation=None,          # realisation=None loads the average of all the realisations\n",
    "num_mocks=1000,            # Used for Hartlap/Sellentin correction if correction=Correction.HARTLAP or Correction.SELLENTIN\n",
    "reduce_cov_factor=1,       # if = 1 Use standard covariance, even for the average\n",
    "datafile=datafile,#\"desi_kp4_abacus_cubicbox_pk_elg.pkl\",\n",
    "#datafile=\"desi_kp4_abacus_cubicbox_cv_pk_elg.pkl\",   \n",
    "data_location=\"/global/u1/a/abbew25/barryrepo/Barry/cosmodesi_KP4ELG_examplecode_make_picklefiles\",\n",
    ")\n",
    "\n",
    "dataset_pk.set_realisation(None)\n"
   ]
  },
  {
   "cell_type": "markdown",
   "id": "4c3bb3a4-21b8-469c-b63a-121c981134a0",
   "metadata": {},
   "source": [
    "### looking at the difference between models with and without phi as a free parameter - on average "
   ]
  },
  {
   "cell_type": "code",
   "execution_count": 9,
   "id": "7e6174f3-fb33-4db9-8fe4-cae664dc567d",
   "metadata": {},
   "outputs": [
    {
     "data": {
      "image/png": "[encoded data removed]",
      "text/plain": [
       "<Figure size 640x480 with 1 Axes>"
      ]
     },
     "metadata": {},
     "output_type": "display_data"
    }
   ],
   "source": [
    "\n",
    "average_diff_modelchoice_fits = np.zeros((len(dataset_pk.ks), 25)) \n",
    "                                         \n",
    "for i in np.arange(25):\n",
    "                                         \n",
    "    dataset_pk.set_realisation(i)\n",
    "    \n",
    "    modelbest = PowerBeutler2017(\n",
    "                    recon='sym',                   \n",
    "                    isotropic=False,                          # Analytic marginalisation\n",
    "                    n_poly=6,                                 # 6 polynomial terms for P(k)\n",
    "                    vary_phase_shift_neff=True, \n",
    "                    use_classorcamb='CLASS',\n",
    "                    marg='full', \n",
    "                    dilate_smooth=True\n",
    "    )\n",
    "\n",
    "    sigma_nl_par = {None: 8.35, \"sym\": 5.145}\n",
    "    sigma_nl_perp = {None: 4.35, \"sym\": 1.5099}\n",
    "    sigma_s = {None: 7.05, \"sym\": 3.4735} \n",
    "\n",
    "    alpha, epsilon = modelbest.get_reverse_alphas(1.0011, 1.0008)\n",
    "\n",
    "    modelbest.set_default(\"sigma_nl_par\", sigma_nl_par['sym'])\n",
    "    modelbest.set_default(\"sigma_nl_perp\", sigma_nl_perp['sym'])\n",
    "    modelbest.set_default(\"sigma_s\", sigma_s['sym'])\n",
    "\n",
    "    modelbest.set_default(\"alpha\", alpha)\n",
    "    modelbest.set_default(\"epsilon\", epsilon)\n",
    "    modelbest.set_default(\"beta_phase_shift\", 1.0697)\n",
    "\n",
    "    cosmology = {\n",
    "                \"om\": 0.3152,\n",
    "                \"h0\": 0.6736,\n",
    "                \"z\":  0.51,\n",
    "                \"ob\": 0.0493,\n",
    "                \"ns\": 0.9649,\n",
    "                \"mnu\": 0.06,\n",
    "                \"reconsmoothscale\": 15,\n",
    "                \"Neff\": 3.046,\n",
    "            }\n",
    "                                         \n",
    "    modelbest.set_cosmology(cosmology) # initialises self.camb object \n",
    "    modelbest.camb.get_data()\n",
    "    ks = modelbest.camb.ks\n",
    "    modelbest.set_data(dataset_pk.get_data())\n",
    "    params_dict = {j.name: j.default for j in modelbest.params}\n",
    "\n",
    "    new_chi_squared_best, dof, bband, modsbest, smooths_best = modelbest.get_model_summary(params_dict)\n",
    "                                         \n",
    "    \n",
    "    \n",
    "    modelbest1 = PowerBeutler2017(\n",
    "                    recon='sym',                   \n",
    "                    isotropic=False,                          # Analytic marginalisation\n",
    "                    n_poly=6,                                 # 6 polynomial terms for P(k) \n",
    "                    use_classorcamb='CLASS',\n",
    "                    marg='full', \n",
    "                    dilate_smooth=True\n",
    "    )\n",
    "\n",
    "    sigma_nl_par = {None: 8.35, \"sym\": 5.145}\n",
    "    sigma_nl_perp = {None: 4.35, \"sym\": 1.5099}\n",
    "    sigma_s = {None: 7.05, \"sym\": 3.4735} \n",
    "\n",
    "    alpha, epsilon = modelbest1.get_reverse_alphas(1.0011, 1.0008)\n",
    "\n",
    "    modelbest1.set_default(\"sigma_nl_par\", sigma_nl_par['sym'])\n",
    "    modelbest1.set_default(\"sigma_nl_perp\", sigma_nl_perp['sym'])\n",
    "    modelbest1.set_default(\"sigma_s\", sigma_s['sym'])\n",
    "\n",
    "    modelbest1.set_default(\"alpha\", alpha)\n",
    "    modelbest1.set_default(\"epsilon\", epsilon)\n",
    "    modelbest1.set_default(\"beta_phase_shift\", 1.0697)\n",
    "                        \n",
    "    modelbest1.set_cosmology(cosmology) # initialises self.camb object \n",
    "    modelbest1.camb.get_data()\n",
    "    ks = modelbest1.camb.ks\n",
    "    modelbest1.set_data(dataset_pk.get_data())\n",
    "    params_dict = {j.name: j.default for j in modelbest.params}\n",
    "\n",
    "    new_chi_squared_best1, dof, bband, modsbest1, smooths_best1 = modelbest1.get_model_summary(params_dict)\n",
    "                                         \n",
    "    \n",
    "    average_diff_modelchoice_fits[:,i] = modsbest1[0][0] - modsbest[0][0] \n",
    "                                         \n",
    "\n",
    "\n",
    "average_diff_modelchoice_fits = np.mean(average_diff_modelchoice_fits, axis=1) \n",
    "                                         \n",
    "plt.plot(dataset_pk.ks, average_diff_modelchoice_fits)\n",
    "plt.show()                                        \n",
    "                                         \n"
   ]
  },
  {
   "cell_type": "code",
   "execution_count": null,
   "id": "92a14b86-aa89-44cd-b94f-48030cadbfeb",
   "metadata": {},
   "outputs": [],
   "source": []
  }
 ],
 "metadata": {
  "kernelspec": {
   "display_name": "barry_env_desiproject_aw",
   "language": "python",
   "name": "barry_env_desiproject_aw"
  },
  "language_info": {
   "codemirror_mode": {
    "name": "ipython",
    "version": 3
   },
   "file_extension": ".py",
   "mimetype": "text/x-python",
   "name": "python",
   "nbconvert_exporter": "python",
   "pygments_lexer": "ipython3",
   "version": "3.11.3"
  }
 },
 "nbformat": 4,
 "nbformat_minor": 5
}
