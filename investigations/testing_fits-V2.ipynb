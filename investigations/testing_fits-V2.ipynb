{
 "cells": [
  {
   "cell_type": "markdown",
   "id": "9ed0db29-1981-497a-a72f-3a64b6820407",
   "metadata": {},
   "source": [
    "# Plotting and comparing best fit models to data for fits to BAOs with and without the phase shift parameter "
   ]
  },
  {
   "cell_type": "markdown",
   "id": "6f9a6d09-fe86-4876-b6fa-de864925d120",
   "metadata": {
    "tags": []
   },
   "source": [
    "### load stuff "
   ]
  },
  {
   "cell_type": "code",
   "execution_count": 50,
   "id": "f4f83899-78ff-4ce1-873f-76f70b3a562a",
   "metadata": {
    "tags": []
   },
   "outputs": [],
   "source": [
    "# Import some necessary modules\n",
    "import os\n",
    "import sys\n",
    "sys.path.append(\"../../Barry/\")     # Change this so that it points to where you have Barry installed\n",
    "import pickle\n",
    "import logging\n",
    "import numpy as np\n",
    "import pandas as pd\n",
    "import matplotlib.pyplot as plt\n",
    "from chainconsumer import ChainConsumer     \n",
    "from barry.cosmology.camb_generator import Omega_m_z\n",
    "\n",
    "\n",
    "from barry.samplers import DynestySampler\n",
    "from barry.config import setup\n",
    "from barry.models import PowerBeutler2017, CorrBeutler2017\n",
    "from barry.datasets.dataset_power_spectrum import PowerSpectrum_DESI_KP4\n",
    "from barry.datasets.dataset_correlation_function import CorrelationFunction_DESI_KP4\n",
    "from barry.fitter import Fitter\n",
    "from barry.models.model import Correction # class for applying corrections to the likelihood function \n",
    "from barry.utils import weighted_avg_and_cov # function for getting avg and covariance \n",
    "\n",
    "# settings \n",
    "CV = False "
   ]
  },
  {
   "cell_type": "markdown",
   "id": "944a2bde-39ff-4441-8015-e43759c37dc5",
   "metadata": {},
   "source": [
    "### load in the data "
   ]
  },
  {
   "cell_type": "code",
   "execution_count": 51,
   "id": "0a5c7b0a-8d77-44dd-ab26-571ac770c057",
   "metadata": {
    "tags": []
   },
   "outputs": [
    {
     "data": {
      "text/plain": [
       "<barry.datasets.dataset_power_spectrum.PowerSpectrum_DESI_KP4 at 0x7f27d6c9dad0>"
      ]
     },
     "execution_count": 51,
     "metadata": {},
     "output_type": "execute_result"
    }
   ],
   "source": [
    "\n",
    "datafile=\"desi_kp4_abacus_cubicbox_pk_elg.pkl\"\n",
    "\n",
    "if CV:\n",
    "    datafile=\"desi_kp4_abacus_cubicbox_cv_pk_elg.pkl\"\n",
    "\n",
    "\n",
    "dataset_pk = PowerSpectrum_DESI_KP4(\n",
    "recon='sym',\n",
    "fit_poles=[0, 2],\n",
    "min_k=0.02,\n",
    "max_k=0.30,\n",
    "realisation=None,          # realisation=None loads the average of all the realisations\n",
    "num_mocks=1000,            # Used for Hartlap/Sellentin correction if correction=Correction.HARTLAP or Correction.SELLENTIN\n",
    "reduce_cov_factor=1,       # if = 1 Use standard covariance, even for the average\n",
    "datafile=datafile,#\"desi_kp4_abacus_cubicbox_pk_elg.pkl\",\n",
    "#datafile=\"desi_kp4_abacus_cubicbox_cv_pk_elg.pkl\",   \n",
    "data_location=\"/global/u1/a/abbew25/barryrepo/Barry/cosmodesi_KP4ELG_examplecode_make_picklefiles\",\n",
    ")\n",
    "\n",
    "dataset_pk.set_realisation(None)\n"
   ]
  },
  {
   "cell_type": "markdown",
   "id": "818cbb05-73e3-4e63-b585-aca2c79830ac",
   "metadata": {},
   "source": [
    "### read in the file with the best fit models for the mocks "
   ]
  },
  {
   "cell_type": "code",
   "execution_count": 52,
   "id": "ccb1f297-2036-4a0c-92bf-afe46772194d",
   "metadata": {
    "tags": []
   },
   "outputs": [
    {
     "name": "stdout",
     "output_type": "stream",
     "text": [
      "{'Realisation': {0: 'mean', 1: '0', 2: '1', 3: '2', 4: '3', 5: '4', 6: '5', 7: '6', 8: '7', 9: '8', 10: '9', 11: '10', 12: '11', 13: '12', 14: '13', 15: '14', 16: '15', 17: '16', 18: '17', 19: '18', 20: '19', 21: '20', 22: '21', 23: '22', 24: '23', 25: '24'}, ' alpha_par': {0: 1.0008, 1: 1.0079, 2: 0.985, 3: 1.0236, 4: 1.0263, 5: 1.0127, 6: 1.0008, 7: 1.0004, 8: 1.0187, 9: 0.9946, 10: 0.9818, 11: 1.0002, 12: 0.9945, 13: 0.9975, 14: 1.0, 15: 1.0056, 16: 1.0168, 17: 0.9938, 18: 0.999, 19: 1.0011, 20: 0.9881, 21: 0.9726, 22: 1.0071, 23: 1.0097, 24: 1.0161, 25: 0.9741}, ' alpha_perp': {0: 1.0007, 1: 1.01, 2: 0.9912, 3: 1.0201, 4: 1.0262, 5: 0.9923, 6: 1.0033, 7: 0.9886, 8: 1.0009, 9: 1.0174, 10: 0.9914, 11: 0.9925, 12: 0.9923, 13: 0.9863, 14: 0.9976, 15: 1.0052, 16: 1.0139, 17: 0.989, 18: 1.0037, 19: 1.0049, 20: 0.9951, 21: 0.9877, 22: 1.0179, 23: 1.0072, 24: 1.0023, 25: 0.9835}, ' Sigma_nl_par': {0: 5.5988, 1: 2.7643, 2: 5.6286, 3: 5.04, 4: 6.1354, 5: 4.6939, 6: 4.6204, 7: 5.327, 8: 6.0045, 9: 3.6887, 10: 4.5459, 11: 4.1911, 12: 5.662, 13: 5.9681, 14: 4.201, 15: 5.1673, 16: 8.1624, 17: 4.2725, 18: 5.8495, 19: 5.5673, 20: 4.5792, 21: 3.9407, 22: 5.6289, 23: 5.9083, 24: 7.7692, 25: 2.8564}, ' Sigma_nl_perp': {0: 1.2103, 1: 1.1272, 2: 1.9521, 3: 0.9348, 4: 1.4196, 5: 2.2557, 6: 0.3131, 7: 1.2542, 8: 0.3231, 9: 2.1659, 10: 0.2764, 11: 1.1547, 12: 1.7554, 13: 1.2631, 14: 3.1557, 15: 0.2171, 16: 0.4979, 17: 2.9456, 18: 3.4807, 19: 0.3162, 20: 2.9024, 21: 1.8931, 22: 2.6005, 23: 0.4019, 24: 1.1251, 25: 2.3166}, ' Sigma_s': {0: 2.5132, 1: 7.9146, 2: 1.3635, 3: 1.7843, 4: 2.431, 5: 5.8657, 6: 1.1397, 7: 1.8577, 8: 0.894, 9: 1.8159, 10: 10.3774, 11: 5.0217, 12: 1.2477, 13: 5.3105, 14: 0.7768, 15: 5.5664, 16: 1.5876, 17: 4.5582, 18: 2.6781, 19: 1.1036, 20: 7.4338, 21: 1.4419, 22: 1.5353, 23: 5.5508, 24: 0.8185, 25: 6.7231}, ' beta': {0: 1.0703, 1: 1.5164, 2: 0.0666, 3: 3.023, 4: 2.8706, 5: 0.8276, 6: 1.2463, 7: 0.2714, 8: 1.4771, 9: 1.7645, 10: 0.2225, 11: 0.2332, 12: 0.0783, 13: 0.0764, 14: 0.9164, 15: 1.1588, 16: 1.7281, 17: 0.7214, 18: 1.3844, 19: 2.0697, 20: 0.4466, 21: -0.4759, 22: 2.5396, 23: 1.7143, 24: 1.4427, 25: -0.5784}, ' sigma_alpha_par': {0: 0.0027, 1: 0.0026, 2: 0.0026, 3: 0.0028, 4: 0.0027, 5: 0.0025, 6: 0.0025, 7: 0.0026, 8: 0.0028, 9: 0.0026, 10: 0.0026, 11: 0.0024, 12: 0.0025, 13: 0.0027, 14: 0.0025, 15: 0.0026, 16: 0.0033, 17: 0.0026, 18: 0.0033, 19: 0.0029, 20: 0.0024, 21: 0.0025, 22: 0.003, 23: 0.0028, 24: 0.0031, 25: 0.0025}, ' sigma_alpha_perp': {0: 0.0022, 1: 0.0024, 2: 0.0021, 3: 0.0023, 4: 0.0022, 5: 0.0021, 6: 0.0021, 7: 0.0021, 8: 0.0021, 9: 0.0024, 10: 0.0022, 11: 0.002, 12: 0.0022, 13: 0.0022, 14: 0.0023, 15: 0.0021, 16: 0.0023, 17: 0.0022, 18: 0.0026, 19: 0.0023, 20: 0.0021, 21: 0.0023, 22: 0.0025, 23: 0.0023, 24: 0.0021, 25: 0.0024}, ' corr_alpha_par_perp': {0: 0.626, 1: 0.67, 2: 0.647, 3: 0.596, 4: 0.628, 5: 0.614, 6: 0.627, 7: 0.652, 8: 0.621, 9: 0.656, 10: 0.66, 11: 0.636, 12: 0.646, 13: 0.691, 14: 0.696, 15: 0.604, 16: 0.627, 17: 0.65, 18: 0.612, 19: 0.694, 20: 0.589, 21: 0.638, 22: 0.608, 23: 0.662, 24: 0.596, 25: 0.67}, ' sigma_beta': {0: 0.1821, 1: 0.1943, 2: 0.181, 3: 0.1821, 4: 0.1761, 5: 0.1726, 6: 0.1779, 7: 0.1786, 8: 0.1776, 9: 0.197, 10: 0.1928, 11: 0.1707, 12: 0.1793, 13: 0.1871, 14: 0.1885, 15: 0.1759, 16: 0.1921, 17: 0.1824, 18: 0.2085, 19: 0.1995, 20: 0.1697, 21: 0.1942, 22: 0.1949, 23: 0.1892, 24: 0.1732, 25: 0.2032}, ' corr_beta_alpha_par': {0: 0.811, 1: 0.828, 2: 0.819, 3: 0.768, 4: 0.808, 5: 0.793, 6: 0.815, 7: 0.825, 8: 0.812, 9: 0.832, 10: 0.818, 11: 0.808, 12: 0.823, 13: 0.843, 14: 0.858, 15: 0.79, 16: 0.812, 17: 0.815, 18: 0.788, 19: 0.855, 20: 0.773, 21: 0.819, 22: 0.799, 23: 0.829, 24: 0.79, 25: 0.833}, ' corr_beta_alpha_prep': {0: 0.913, 1: 0.926, 2: 0.918, 3: 0.923, 4: 0.913, 5: 0.917, 6: 0.906, 7: 0.916, 8: 0.904, 9: 0.913, 10: 0.929, 11: 0.919, 12: 0.914, 13: 0.928, 14: 0.918, 15: 0.913, 16: 0.912, 17: 0.923, 18: 0.921, 19: 0.922, 20: 0.916, 21: 0.913, 22: 0.911, 23: 0.919, 24: 0.906, 25: 0.919}, ' rd_of_template': {0: 99.091, 1: 99.091, 2: 99.091, 3: 99.091, 4: 99.091, 5: 99.091, 6: 99.091, 7: 99.091, 8: 99.091, 9: 99.091, 10: 99.091, 11: 99.091, 12: 99.091, 13: 99.091, 14: 99.091, 15: 99.091, 16: 99.091, 17: 99.091, 18: 99.091, 19: 99.091, 20: 99.091, 21: 99.091, 22: 99.091, 23: 99.091, 24: 99.091, 25: 99.091}, ' bf_chi2': {0: 172.968, 1: 2264.274, 2: 1821.572, 3: 3097.228, 4: 1633.596, 5: 2333.66, 6: 2497.589, 7: 1610.837, 8: 2346.845, 9: 2624.509, 10: 2959.013, 11: 2232.191, 12: 2630.376, 13: 1932.847, 14: 2617.42, 15: 2488.312, 16: 2093.88, 17: 1977.182, 18: 2455.616, 19: 2651.71, 20: 2569.694, 21: 2574.272, 22: 2659.168, 23: 2485.191, 24: 2701.456, 25: 2761.061}, ' dof': {0: 94, 1: 94, 2: 94, 3: 94, 4: 94, 5: 94, 6: 94, 7: 94, 8: 94, 9: 94, 10: 94, 11: 94, 12: 94, 13: 94, 14: 94, 15: 94, 16: 94, 17: 94, 18: 94, 19: 94, 20: 94, 21: 94, 22: 94, 23: 94, 24: 94, 25: 94}}\n"
     ]
    }
   ],
   "source": [
    "directory = \"/global/u1/a/abbew25/barryrepo/Barry/cosmodesi_KP4ELG_examplecode_make_picklefiles/plots/\"\n",
    "directory2 = \"/global/u1/a/abbew25/barryrepo/Barry/cosmodesi_KP4ELG_examplecode_make_picklefiles/plots/\"\n",
    "\n",
    "#/global/u1/a/abbew25/barryrepo/Barry/cosmodesi_KP4ELG_examplecode_make_picklefiles/plots/desi_kp4_abacus_cubic_ELG/output\n",
    "#Barry_fit_CV_Pk_Recon.txt \n",
    "if CV: \n",
    "    file_fits_without_phi = pd.read_csv((directory + \"desi_kp4_abacus_cubic_ELG/output/Barry_fit_CVPk_Recon.txt\"), header=0, nrows=26)#, index_col=1)\n",
    "    \n",
    "    file_fits_with_phi = pd.read_csv((directory2 + \"desi_kp4_abacus_cubic_ELG_phaseshiftfree/output/Barry_fit_CVPk_Recon.txt\"), header=0, nrows=26)\n",
    "    \n",
    "else: \n",
    "    file_fits_without_phi = pd.read_csv((directory + \"desi_kp4_abacus_cubic_ELG/output/Barry_fit_Pk_Recon.txt\"), header=0, nrows=26)\n",
    "    \n",
    "    file_fits_with_phi = pd.read_csv((directory2 + \"desi_kp4_abacus_cubic_ELG_phaseshiftfree/output/Barry_fit_Pk_Recon.txt\"), header=0, nrows=26)\n",
    "    \n",
    "#params_model = file_fits_with_phi.to_dict()\n",
    "#print(params_model)\n",
    "    \n",
    "#print(file_fits_without_phi[file_fits_without_phi['Realisation'] == '0'].to_dict())#[' alpha_par'][1])\n",
    "#print(file_fits_with_phi)#file_fits_with_phi['# Realisation'] == '0'].to_dict())#[' alpha_par'][1])\n",
    "\n",
    "params_model = file_fits_with_phi.to_dict()\n",
    "\n",
    "params_model2 = file_fits_without_phi.to_dict()\n",
    "\n",
    "print(params_model)"
   ]
  },
  {
   "cell_type": "markdown",
   "id": "4c3bb3a4-21b8-469c-b63a-121c981134a0",
   "metadata": {},
   "source": [
    "### looking at the difference between models with and without phi as a free parameter - on average "
   ]
  },
  {
   "cell_type": "code",
   "execution_count": 53,
   "id": "7e6174f3-fb33-4db9-8fe4-cae664dc567d",
   "metadata": {},
   "outputs": [
    {
     "data": {
      "image/png": "[encoded data removed]",
      "text/plain": [
       "<Figure size 640x480 with 1 Axes>"
      ]
     },
     "metadata": {},
     "output_type": "display_data"
    }
   ],
   "source": [
    "\n",
    "average_diff_modelchoice_fits = np.zeros((len(dataset_pk.ks), 25)) \n",
    "                                         \n",
    "for i in np.arange(25):\n",
    "                                         \n",
    "    dataset_pk.set_realisation(i)\n",
    "    \n",
    "    modelbest = PowerBeutler2017(\n",
    "                    recon='sym',                   \n",
    "                    isotropic=False,                          # Analytic marginalisation\n",
    "                    n_poly=6,                                 # 6 polynomial terms for P(k)\n",
    "                    vary_phase_shift_neff=True, \n",
    "                    use_classorcamb='CLASS',\n",
    "                    marg='full', \n",
    "                    dilate_smooth=True\n",
    "    )\n",
    "    \n",
    "    sigma_nl_par = params_model[' alpha_par'][i+1]\n",
    "    sigma_nl_perp = params_model[' alpha_perp'][i+1]\n",
    "    sigma_s = params_model[' Sigma_s'][i+1]\n",
    "    alpha_para = params_model[' Sigma_nl_par'][i+1]\n",
    "    alpha_perp = params_model[' Sigma_nl_perp'][i+1]\n",
    "    beta = params_model[' beta'][i+1]\n",
    "\n",
    "    alpha, epsilon = modelbest.get_reverse_alphas(alpha_para, alpha_perp)\n",
    "\n",
    "    modelbest.set_default(\"sigma_nl_par\", sigma_nl_par)\n",
    "    modelbest.set_default(\"sigma_nl_perp\", sigma_nl_perp)\n",
    "    modelbest.set_default(\"sigma_s\", sigma_s)\n",
    "\n",
    "    modelbest.set_default(\"alpha\", alpha)\n",
    "    modelbest.set_default(\"epsilon\", epsilon)\n",
    "    modelbest.set_default(\"beta_phase_shift\", beta)\n",
    "\n",
    "    cosmology = {\n",
    "                \"om\": 0.3152,\n",
    "                \"h0\": 0.6736,\n",
    "                \"z\":  0.51,\n",
    "                \"ob\": 0.0493,\n",
    "                \"ns\": 0.9649,\n",
    "                \"mnu\": 0.06,\n",
    "                \"reconsmoothscale\": 15,\n",
    "                \"Neff\": 3.046,\n",
    "            }\n",
    "                                         \n",
    "    modelbest.set_cosmology(cosmology) # initialises self.camb object \n",
    "    modelbest.camb.get_data()\n",
    "    ks = modelbest.camb.ks\n",
    "    modelbest.set_data(dataset_pk.get_data())\n",
    "    params_dict = {j.name: j.default for j in modelbest.params}\n",
    "\n",
    "    new_chi_squared_best, dof, bband, modsbest, smooths_best = modelbest.get_model_summary(params_dict)\n",
    "                                         \n",
    "    \n",
    "    \n",
    "    modelbest1 = PowerBeutler2017(\n",
    "                    recon='sym',                   \n",
    "                    isotropic=False,                          # Analytic marginalisation\n",
    "                    n_poly=6,                                 # 6 polynomial terms for P(k) \n",
    "                    use_classorcamb='CLASS',\n",
    "                    marg='full', \n",
    "                    dilate_smooth=True\n",
    "    )\n",
    "\n",
    "    sigma_nl_par = params_model2[' alpha_par'][i+1]\n",
    "    sigma_nl_perp = params_model2[' alpha_perp'][i+1]\n",
    "    sigma_s = params_model2[' Sigma_s'][i+1]\n",
    "    alpha_para = params_model2[' Sigma_nl_par'][i+1]\n",
    "    alpha_perp = params_model2[' Sigma_nl_perp'][i+1]\n",
    "\n",
    "    alpha, epsilon = modelbest1.get_reverse_alphas(alpha_para, alpha_perp)\n",
    "\n",
    "    modelbest1.set_default(\"sigma_nl_par\", sigma_nl_par)\n",
    "    modelbest1.set_default(\"sigma_nl_perp\", sigma_nl_perp)\n",
    "    modelbest1.set_default(\"sigma_s\", sigma_s)\n",
    "\n",
    "    modelbest1.set_default(\"alpha\", alpha)\n",
    "    modelbest1.set_default(\"epsilon\", epsilon)\n",
    "                        \n",
    "    modelbest1.set_cosmology(cosmology) # initialises self.camb object \n",
    "    modelbest1.camb.get_data()\n",
    "    ks = modelbest1.camb.ks\n",
    "    modelbest1.set_data(dataset_pk.get_data())\n",
    "    params_dict = {j.name: j.default for j in modelbest1.params}\n",
    "\n",
    "    new_chi_squared_best1, dof, bband, modsbest1, smooths_best1 = modelbest1.get_model_summary(params_dict)\n",
    "                                         \n",
    "    \n",
    "    average_diff_modelchoice_fits[:,i] = modsbest1[0][0] - modsbest[0][0] \n",
    "                                         \n",
    "    \n",
    "\n",
    "average_diff_modelchoice_fits = np.mean(average_diff_modelchoice_fits, axis=1) \n",
    "                                         \n",
    "plt.plot(dataset_pk.ks, average_diff_modelchoice_fits* dataset_pk.ks)\n",
    "dataset_pk.set_realisation(None)\n",
    "plt.errorbar(dataset_pk.ks, dataset_pk.data[:,0]-dataset_pk.data[:,0], np.sqrt(np.diag(dataset_pk.cov[0:56,0:56])) * dataset_pk.ks, linestyle='-.')\n",
    "plt.ylabel(r\"$k(\\langle P(k)_i - P(k)_{i,\\beta}) \\rangle$ $\\mathrm{Mpc}^2 h^{-2}$\")\n",
    "plt.xlabel(r\"$k$ $\\mathrm{Mpc} h^{-1}$\")\n",
    "suffix = ''\n",
    "if CV:\n",
    "    suffix = ' (CV)'\n",
    "plt.title(\"Average difference for 25 Abacus Summit ELG mocks\" + suffix)\n",
    "plt.show()                                        \n",
    "                                         \n"
   ]
  },
  {
   "cell_type": "code",
   "execution_count": null,
   "id": "92a14b86-aa89-44cd-b94f-48030cadbfeb",
   "metadata": {},
   "outputs": [],
   "source": []
  },
  {
   "cell_type": "code",
   "execution_count": null,
   "id": "5678ff1f-a525-4172-b638-88b69abb73eb",
   "metadata": {},
   "outputs": [],
   "source": []
  }
 ],
 "metadata": {
  "kernelspec": {
   "display_name": "barry_env_desiproject_aw",
   "language": "python",
   "name": "barry_env_desiproject_aw"
  },
  "language_info": {
   "codemirror_mode": {
    "name": "ipython",
    "version": 3
   },
   "file_extension": ".py",
   "mimetype": "text/x-python",
   "name": "python",
   "nbconvert_exporter": "python",
   "pygments_lexer": "ipython3",
   "version": "3.11.3"
  }
 },
 "nbformat": 4,
 "nbformat_minor": 5
}
