{
 "cells": [
  {
   "cell_type": "markdown",
   "id": "9ed0db29-1981-497a-a72f-3a64b6820407",
   "metadata": {},
   "source": [
    "# Plotting and comparing best fit models to data for fits to BAOs with and without the phase shift parameter "
   ]
  },
  {
   "cell_type": "markdown",
   "id": "6f9a6d09-fe86-4876-b6fa-de864925d120",
   "metadata": {
    "tags": []
   },
   "source": [
    "### load stuff "
   ]
  },
  {
   "cell_type": "code",
   "execution_count": null,
   "id": "f4f83899-78ff-4ce1-873f-76f70b3a562a",
   "metadata": {
    "tags": []
   },
   "outputs": [],
   "source": [
    "# Import some necessary modules\n",
    "import os\n",
    "import sys\n",
    "sys.path.append(\"../../Barry/\")     # Change this so that it points to where you have Barry installed\n",
    "import pickle\n",
    "import logging\n",
    "import numpy as np\n",
    "import pandas as pd\n",
    "import matplotlib.pyplot as plt\n",
    "from chainconsumer import ChainConsumer     \n",
    "from barry.cosmology.camb_generator import Omega_m_z\n",
    "\n",
    "\n",
    "from barry.samplers import DynestySampler\n",
    "from barry.config import setup\n",
    "from barry.models import PowerBeutler2017, CorrBeutler2017\n",
    "from barry.datasets.dataset_power_spectrum import PowerSpectrum_DESI_KP4\n",
    "from barry.datasets.dataset_correlation_function import CorrelationFunction_DESI_KP4\n",
    "from barry.fitter import Fitter\n",
    "from barry.models.model import Correction # class for applying corrections to the likelihood function \n",
    "from barry.utils import weighted_avg_and_cov # function for getting avg and covariance \n",
    "from scipy.interpolate import CubicSpline \n",
    "# settings \n",
    "CV = False"
   ]
  },
  {
   "cell_type": "markdown",
   "id": "944a2bde-39ff-4441-8015-e43759c37dc5",
   "metadata": {},
   "source": [
    "### load in the data "
   ]
  },
  {
   "cell_type": "code",
   "execution_count": null,
   "id": "0a5c7b0a-8d77-44dd-ab26-571ac770c057",
   "metadata": {
    "tags": []
   },
   "outputs": [],
   "source": [
    "\n",
    "datafile=\"desi_kp4_abacus_cubicbox_pk_elg.pkl\"\n",
    "\n",
    "if CV:\n",
    "    datafile=\"desi_kp4_abacus_cubicbox_cv_pk_elg.pkl\"\n",
    "\n",
    "\n",
    "dataset_pk = PowerSpectrum_DESI_KP4(\n",
    "recon='sym',\n",
    "fit_poles=[0, 2],\n",
    "min_k=0.02,\n",
    "max_k=0.30,\n",
    "realisation=None,          # realisation=None loads the average of all the realisations\n",
    "num_mocks=1000,            # Used for Hartlap/Sellentin correction if correction=Correction.HARTLAP or Correction.SELLENTIN\n",
    "reduce_cov_factor=25,       # if = 1 Use standard covariance, even for the average\n",
    "datafile=datafile,#\"desi_kp4_abacus_cubicbox_pk_elg.pkl\",\n",
    "#datafile=\"desi_kp4_abacus_cubicbox_cv_pk_elg.pkl\",   \n",
    "data_location=\"/global/u1/a/abbew25/barryrepo/Barry/cosmodesi_KP4ELG_examplecode_make_picklefiles\",\n",
    ")\n",
    "\n",
    "\n",
    "#dataset_pk.set_realisation(None)\n",
    "\n",
    "# print(dir(dataset_pk)) # attributes \n",
    "\n",
    "# print(dataset_pk.data.shape) # number of k measurements vs number of multipoles \n",
    "# print(dataset_pk.ks.shape)\n",
    "\n",
    "# print(dataset_pk.w_pk.shape)\n",
    "\n",
    "\n",
    "# print(dataset_pk.get_data()[0].keys())#[0]['pk'])#[['ndata']])#[['pk']])\n",
    "# print(dataset_pk.get_data()[0]['w_scale'].shape)#[0]['pk'])#[['ndata']])#[['pk']])\n",
    "\n",
    "# #plt.plot(dataset_pk.get_data()[0]['pk0'][0], dataset_pk.data[:,0]) # both of these give the monopole\n",
    "# #plt.show()\n",
    "# # print(dataset_pk.m_w_transform.shape)\n",
    "# print(dataset_pk.w_transform.shape)\n",
    "\n",
    "# # print(dataset_pk.w_transform.shape)\n",
    "\n",
    "# # print(dataset_pk.ks.shape)\n",
    "# # print(dataset_pk.m_w_mask.shape)\n",
    "\n",
    "# # print(dataset_pk.w_pk.shape)\n",
    "# print(dataset_pk.w_ks_input.shape)\n",
    "# print(dataset_pk.w_ks_output.shape)\n",
    "\n",
    "# #print(dataset_pk.get_data()[0][''])\n",
    "\n",
    "# print(dataset_pk.recon, dataset_pk.isotropic)\n"
   ]
  },
  {
   "cell_type": "markdown",
   "id": "853af425-54b1-430f-91a0-a3fc241b5ec8",
   "metadata": {},
   "source": [
    "# looking at data vs best fit models for polynomial vs spline method for broadband power spectrum fitting - fitting with beta "
   ]
  },
  {
   "cell_type": "code",
   "execution_count": null,
   "id": "fd3ec111-affd-42f4-989f-958b99ff943f",
   "metadata": {
    "tags": []
   },
   "outputs": [],
   "source": [
    "mocksandmodels = {\n",
    "            \"poly best fit mean of mocks\":        [1.001, 0.000112, 5.725, 1.593, 0.4192, 1.065, 0.5167, 0.7962],\n",
    "            \"poly best fit mean of mocks (CV)\":   [0.997, 0.0002107, 5.735, 1.248, 0.3287, 0.6999, 0.5103, 0.8161],\n",
    "            \"spline best fit mean of mocks\":      [1.005, 0.0002356, 5.665, 1.369, 2.958, 1.429, 0.525, 0.8064],\n",
    "            \"spline best fit mean of mocks (CV)\": [1.001, -0.00003162, 5.554, 1.556, 1.602, 1.019, 0.5318, 0.7862],\n",
    "            #\"poly default\": [1.0, 0.0, 5.4, 1.5, 0.0, 1.0, 0.5, 0.8], \n",
    "            #\"spline default\": [1.0, 0.0, 5.4, 1.5, 0.0, 1.0, 0.5, 0.8] \n",
    "            }\n",
    "# mockmodel = \"poly default\"#best fit mean of mocks\"\n",
    "# plt.figure(figsize=(10,6))\n",
    "for mockmodel in mocksandmodels:\n",
    "    \n",
    "# generating the default (correct) model for the data \n",
    "    model = PowerBeutler2017(\n",
    "                    recon='sym',                   \n",
    "                    isotropic=False,                              # 6 polynomial terms for P(k)\n",
    "                    vary_phase_shift_neff=True, \n",
    "                    marg='full',\n",
    "                    broadband_type=mockmodel.split()[0],\n",
    "                    smooth_dilate=True\n",
    "                    #use_class_or_camb='CLASS',\n",
    "                    # poly_poles=dataset_pk.fit_poles\n",
    "    )\n",
    "    pktemplate = np.loadtxt(\"../cosmodesi_KP4ELG_examplecode_make_picklefiles/DESI_Pk_template.dat\")\n",
    "    model.kvals, model.pksmooth, model.pkratio = pktemplate.T\n",
    "\n",
    "    # sigma_nl_par = {None: 8.7, \"sym\": 5.4}\n",
    "    # sigma_nl_perp = {None: 4.0, \"sym\": 1.5}\n",
    "    # sigma_s = {None: 3.5, \"sym\": 0.0}\n",
    "    print(model.marg_bias, model.marg, model.marg_type, model.fog_wiggles, model.dilate_smooth, model.correction)\n",
    "    # model.set_default(\"sigma_nl_par\", sigma_nl_par['sym'])#, min=0.0, max=20.0, sigma=4.0, prior=\"gaussian\")\n",
    "    # model.set_default(\"sigma_nl_perp\", sigma_nl_perp['sym'])#, min=0.0, max=20.0, sigma=4.0, prior=\"gaussian\")\n",
    "    # model.set_default(\"sigma_s\", sigma_s['sym'])#, min=0.0, max=20.0, sigma=4.0, prior=\"gaussian\")\n",
    "    # if \"default\" in mockmodel:\n",
    "    #     model.set_default('b{0}_{1}', None)\n",
    "    #     model.set_default('beta', None)\n",
    "\n",
    "    # cosmology = {\n",
    "            #     \"om\": 0.3152,\n",
    "            #     \"h0\": 0.6736,\n",
    "            #     \"z\":  0.51,\n",
    "            #     \"ob\": 0.0493,\n",
    "            #     \"ns\": 0.9649,\n",
    "            #     \"mnu\": 0.06,\n",
    "            #     \"reconsmoothscale\": 15,\n",
    "            #     \"Neff\": 3.044,\n",
    "            # }\n",
    "    \n",
    "    #model.set_cosmology(cosmology) # initialises self.camb object \n",
    "    #model.camb.get_data()\n",
    "    model.set_data(dataset_pk.get_data())\n",
    "\n",
    "    params_dict = {j.name: j.default for j in model.params}\n",
    "    # if \"default\" not in mockmodel:\n",
    "    params_dict[\"b{0}_{1}\"] = mocksandmodels[mockmodel][6]\n",
    "    params_dict[\"beta\"] = mocksandmodels[mockmodel][7]\n",
    "    params_dict[\"alpha\"] = mocksandmodels[mockmodel][0]\n",
    "    params_dict[\"epsilon\"] = mocksandmodels[mockmodel][1]\n",
    "    params_dict[\"sigma_s\"] = mocksandmodels[mockmodel][4]\n",
    "    params_dict[\"sigma_nl_par\"] = mocksandmodels[mockmodel][2]\n",
    "    params_dict[\"sigma_nl_perp\"] = mocksandmodels[mockmodel][3]\n",
    "    params_dict[\"beta_phase_shift\"] = mocksandmodels[mockmodel][5]\n",
    "    params = [params_dict[i] for i in model.get_names()]\n",
    "    params_dict = model.get_param_dict(params)\n",
    "    \n",
    "    for name, val in params_dict.items():\n",
    "        model.set_default(name, val)\n",
    "    \n",
    "    new_chi_squared_default, dof, bband, mods_default, smooths_default = model.get_model_summary(params_dict)\n",
    "    # new_chi_squared_default, dof, bband, mods_default, smooths_default = model.plot(params_dict)\n",
    "    # print(bband, dof, len(bband))\n",
    "    plt.plot(dataset_pk.ks, mods_default[0][0]/dataset_pk.data[:,0], label=mockmodel + r', $\\chi^2 = %.2f$' % new_chi_squared_default)\n",
    "\n",
    "err = np.sqrt(np.diag(dataset_pk.cov[0:56,0:56]))\n",
    "plt.errorbar(dataset_pk.ks, dataset_pk.data[:,0] / dataset_pk.data[:,0], err/dataset_pk.data[:,0] , \n",
    "    label='mock data mean', color='grey', linestyle='-.', alpha=0.5, markersize = 4, marker='o')\n",
    "\n",
    "plt.ylabel(r'$P(k)_{\\mathrm{model}}/ P(k)_{\\mathrm{25 mocks, mean}}$')\n",
    "plt.xlabel(r'$k$ $\\mathrm{Mpc} h^{-1}$')\n",
    "\n",
    "plt.legend()\n",
    "plt.show()"
   ]
  },
  {
   "cell_type": "code",
   "execution_count": null,
   "id": "a91e981c-cef9-4821-8744-f2291d50bbd9",
   "metadata": {},
   "outputs": [],
   "source": [
    "print(dir(dataset_pk))"
   ]
  },
  {
   "cell_type": "code",
   "execution_count": null,
   "id": "0c22e627-5964-451c-a32a-660da61fa69e",
   "metadata": {
    "tags": []
   },
   "outputs": [],
   "source": [
    "print(dataset_pk.data.shape)"
   ]
  },
  {
   "cell_type": "code",
   "execution_count": null,
   "id": "6d62a95e-775d-4e60-bc3b-2566d62d009e",
   "metadata": {},
   "outputs": [],
   "source": []
  }
 ],
 "metadata": {
  "kernelspec": {
   "display_name": "barry_env_desiproject_aw",
   "language": "python",
   "name": "barry_env_desiproject_aw"
  },
  "language_info": {
   "codemirror_mode": {
    "name": "ipython",
    "version": 3
   },
   "file_extension": ".py",
   "mimetype": "text/x-python",
   "name": "python",
   "nbconvert_exporter": "python",
   "pygments_lexer": "ipython3",
   "version": "3.11.8"
  }
 },
 "nbformat": 4,
 "nbformat_minor": 5
}
