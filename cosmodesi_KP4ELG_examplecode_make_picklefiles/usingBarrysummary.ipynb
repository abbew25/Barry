{
 "cells": [
  {
   "cell_type": "markdown",
   "id": "2884dc43-1862-484a-ba8a-a232fdc4b9c1",
   "metadata": {},
   "source": [
    "# Summary of how to do some stuff with Barry that might be useful"
   ]
  },
  {
   "cell_type": "markdown",
   "id": "aae15ea2-5f10-4c6a-b494-2abccfb03add",
   "metadata": {},
   "source": [
    "### Basic imports"
   ]
  },
  {
   "cell_type": "code",
   "execution_count": null,
   "id": "4210c82c-93a0-4a07-ba0c-07ff9b0d34e1",
   "metadata": {
    "tags": []
   },
   "outputs": [],
   "source": [
    "import sys \n",
    "sys.path.append(\"../\")\n",
    "import barry \n",
    "import numpy as np\n",
    "import matplotlib.pyplot as plt "
   ]
  },
  {
   "cell_type": "markdown",
   "id": "d367766b-b327-48d1-8f8f-8b955146c563",
   "metadata": {},
   "source": [
    "### get a powerspectrum model with Barry"
   ]
  },
  {
   "cell_type": "code",
   "execution_count": null,
   "id": "2b979d48-3aa7-4926-b9f9-ee0ed0acadbd",
   "metadata": {
    "tags": []
   },
   "outputs": [],
   "source": [
    "from barry.models import PowerBeutler2017 # - importing a powerspectrum model \n",
    "\n",
    "# Set up the model\n",
    "model = PowerBeutler2017(\n",
    "        fix_params=(\"om\",), # by default only om will be fixed for models and alpha/epsilon will vary \n",
    "        # - can fix alphas if wanting to find best fits to some nuisance parameters only \n",
    "        smooth_type=None, # which method to use to smooth the power spectrum \n",
    "        recon=None, # for pre or post reconstruction (put 'sym' for recon) \n",
    "        postprocess=None, # ???\n",
    "        smooth=False, # whether to return the smoothed model \n",
    "        correction=None, # ???\n",
    "        isotropic=False, # isotropic or anisotropic BAO fits \n",
    "        poly_poles=(0, 2), # which polynomials to fit ????????\n",
    "        marg=None, # where to marginalise certain nuisance parameters (useful to set to 'full' for some cases) \n",
    "        dilate_smooth=True, # whether to include kprime (observed k in AP effect) in certain terms in the redshift space power spectrum model (rather than use k_true)\n",
    "        n_poly=5, # number of polynomial terms to model for broadband power spectrum for BAO fits - this is just a modelling choice \n",
    "        n_data=1, # number of datasets to fit ????????? \n",
    "        data_share_bias=False,  # ?????\n",
    "        data_share_poly=False, # ?????\n",
    "        vary_neff=False, # whether to vary Neff cosmo parameter (just put here for testing stuff) \n",
    "        vary_phase_shift_neff=False, # whether to vary the phase-shift parameter (Neff induced phase shift in BAOs, can be fitted as additional parameter)\n",
    "        use_classorcamb='CAMB' # can set to 'CLASS' to compute a power spectrum using CLASS instead of CAMB \n",
    ") \n",
    "\n",
    "cosmology = { # set values of cosmological parameters if desired (otherwise a default choice is used)\n",
    "            \"om\": 0.31,\n",
    "            \"h0\": 0.67,\n",
    "            \"z\":  0.51,\n",
    "            \"ob\": 0.048,\n",
    "            \"ns\": 0.97,\n",
    "            \"mnu\": 0.0,\n",
    "            \"reconsmoothscale\": 15,\n",
    "            \"Neff\": 3.044,\n",
    "        }\n",
    "model.set_cosmology(cosmology) # initialises self.camb object \n",
    "k = model.camb.ks\n",
    "model.camb._generate_data() # - only needs to be run one time to calculate power spectrum for a given cosmology, \n",
    "# if already exists this step is unnecessary as Barry will read in the powerspectrum computed and saved previously \n",
    "\n",
    "pk = model.camb.get_data(cosmology[\"om\"], Neff=3.044) # computes pk_linear at given redshift, pk_nonlinear at z and at z = 0.0,\n",
    "# returns a dictionary with these and the baryon drag epoch sound horizon, ks, om, h0\n",
    "\n",
    "print(pk)"
   ]
  },
  {
   "cell_type": "markdown",
   "id": "b9b271dc-1a56-4cad-bc5b-518ec6670285",
   "metadata": {},
   "source": [
    "### get the power spectrum moments (monopole, quadrupole, hexadecapole)"
   ]
  },
  {
   "cell_type": "code",
   "execution_count": null,
   "id": "8b54c719-eea0-4cf1-8a19-535aa2cd72d4",
   "metadata": {},
   "outputs": [],
   "source": [
    "model = PowerBeutler2017(\n",
    ")\n",
    "model.set_cosmology(cosmology) # initialises self.camb object \n",
    "ks = model.camb.ks\n",
    "params_dict = {j.name: j.default for j in model.params} # for giving list of needed parameters to next function \n",
    "\n",
    "k, pk, poly = model.compute_power_spectrum(ks, params_dict, \n",
    "                                           smooth=False # if true gives the power spectrum with BAOs smoothed out \n",
    "                                          )\n",
    "# pk[0] - isotropic case monopole , pk[2] is quadrupole, etc \n",
    "\n",
    "# for anistropic case: \n",
    "    # k[:,0], pk[0] # index in k lets mu vary, which changes k observed (pk has varying moments only)  \n"
   ]
  },
  {
   "cell_type": "markdown",
   "id": "d46fcf3f-cd66-41e2-894a-6b2d79c23e8d",
   "metadata": {},
   "source": [
    "### its also possible to directly get the power spectrum using some other functions from barry.cosmology"
   ]
  },
  {
   "cell_type": "code",
   "execution_count": null,
   "id": "8083863e-1df8-4bb8-b11f-b3f03fccc4cb",
   "metadata": {
    "tags": []
   },
   "outputs": [],
   "source": [
    "from barry.cosmology.camb_generator import getCambGenerator # or ClassGenerator from camb.cosmology.class_generator if desired \n",
    "\n",
    "# you can get it to precompute and save models with varying choice of h0, Neff, omega_m (for neff need to set vary_neff = True AND neff_resolution > 1\n",
    "c = getCambGenerator(redshift=0.1, Neff=3.044, h0_resolution=3, om_resolution=5)#, vary_neff=True, neff_resolution=3)\n",
    "\n",
    "# c._generate_data() - you can then generator these models - although warning it can take some time \n",
    "\n",
    "# c.get_data() returns the same as model.camb.get_data() \n",
    "k, pk = c.ks, c.get_data(0.2, 0.75)[\"pk_lin\"] # where the inputs are values for om, \n",
    "# h0 that are interpolated from the varying h0, omega_m power spectra generated "
   ]
  },
  {
   "cell_type": "markdown",
   "id": "ba6c3ed3-76a6-4ae7-9318-a50348ff05b9",
   "metadata": {},
   "source": [
    "### you can set up a power spectrum model, load some pre-processed data (such as the example here) and use it to plot a power spectrum model against the data with marginalization over annoying nuisance parameters"
   ]
  },
  {
   "cell_type": "code",
   "execution_count": null,
   "id": "df4dafe7-144b-4c93-ab20-09a9e574a4e1",
   "metadata": {
    "tags": []
   },
   "outputs": [],
   "source": [
    "# loading some pre-processed data \n",
    "from barry.datasets.dataset_power_spectrum import PowerSpectrum_DESI_KP4\n",
    "\n",
    "datafile=\"desi_kp4_abacus_cubicbox_pk_elg.pkl\"\n",
    "\n",
    "dataset_pk = PowerSpectrum_DESI_KP4(\n",
    "recon='sym',\n",
    "fit_poles=[0, 2],\n",
    "min_k=0.02,\n",
    "max_k=0.30,\n",
    "realisation=None,          # realisation=None loads the average of all the realisations\n",
    "num_mocks=1000,            # Used for Hartlap/Sellentin correction if correction=Correction.HARTLAP or Correction.SELLENTIN\n",
    "reduce_cov_factor=25,       # if = 1 Use standard covariance, even for the average\n",
    "datafile=datafile,  \n",
    "data_location=\"/global/u1/a/abbew25/barryrepo/Barry/cosmodesi_KP4ELG_examplecode_make_picklefiles\",\n",
    ")\n",
    "\n",
    "dataset_pk.set_realisation(None) # setting to None sets to the mean of the mocks, otherwise mocks go from realisations 0 - 24 \n",
    "\n",
    "\n",
    "# now set up some choice of model \n",
    "model = PowerBeutler2017(\n",
    "                recon='sym',                   \n",
    "                isotropic=False,\n",
    "                n_poly=6,                                 \n",
    "                use_classorcamb='CLASS',\n",
    "                dilate_smooth=True,\n",
    "                marg='full'\n",
    ")\n",
    "\n",
    "# you can set the default values of parameters to something if desired (otherwise a default will exist for most things) \n",
    "# - commented out bit is only necessary if you want to include some kind of prior (gaussian or flat) \n",
    "# these nuisance parameters can be different depending on whether the model is isotropic or not. \n",
    "# can check using print(model.params) and various functions can be used to check if they are fixed or active in a fit / analysis \n",
    "model.set_default(\"sigma_nl_par\", 5.4)#, min=0.0, max=20.0, sigma=4.0, prior=\"gaussian\")\n",
    "model.set_default(\"sigma_nl_perp\", 1.5)#, min=0.0, max=20.0, sigma=4.0, prior=\"gaussian\")\n",
    "model.set_default(\"sigma_s\", 0.0)# , min=0.0, max=20.0, sigma=4.0, prior=\"gaussian\")\n",
    "\n",
    "# to plot the data against the model do:\n",
    "model.set_data(dataset_pk.get_data())\n",
    "ks = model.camb.ks\n",
    "params_dict = {j.name: j.default for j in model.params}\n",
    "\n",
    "# running the following will give a model (mods) and smoothed model (smooths) and best fit chi square\n",
    "# - having set model.marg='full' ensures that nuisance parameters for the broadband power spectrum and the galaxy bias are pre-marginalised over\n",
    "new_chi_squared, dof, bband, mods, smooths = model.get_model_summary(params_dict)\n",
    "\n",
    "# need to index with smooths[0][0] for example to get the smoothed monopole \n",
    "\n",
    "# to get the data stuff you might want to plot call: \n",
    "# ks = dataset_pk.ks \n",
    "# monopole = dataset_pk.data[:,0] # for monopole \n",
    "# err = np.sqrt(np.diag(dataset_pk.cov[0:56,0:56])) # errors on monopole measurements, given length of ks is 56 \n",
    "\n",
    "# model.get_model_summary() is also called if the following function is used (which makes a nice plot for you) \n",
    "model.plot(params_dict)"
   ]
  },
  {
   "cell_type": "markdown",
   "id": "f235f7d6-035c-4a01-bfc7-4e61524311b3",
   "metadata": {},
   "source": [
    "## get a correlation function model with Barry"
   ]
  },
  {
   "cell_type": "code",
   "execution_count": null,
   "id": "a9ed3ecf-c5b3-483e-b570-c103573fc646",
   "metadata": {
    "tags": []
   },
   "outputs": [],
   "source": [
    "from barry.models import CorrBeutler2017 # - importing a powerspectrum model \n",
    "from barry.cosmology.pk2xi import *#pk2xi\n",
    "# Set up the model\n",
    "model = CorrBeutler2017(\n",
    "        fix_params=(\"om\",), # by default only om will be fixed for models and alpha/epsilon will vary \n",
    "        # - can fix alphas if wanting to find best fits to some nuisance parameters only \n",
    "        smooth_type=None, # ?????\n",
    "        recon=None, # for pre or post reconstruction (put 'sym' for recon) \n",
    "        smooth=False, # ???\n",
    "        correction=None, # ???\n",
    "        isotropic=False, # isotropic or anisotropic BAO fits \n",
    "        poly_poles=(0, 2), # which polynomials to fit ????????\n",
    "        marg=None, # where to marginalise certain nuisance parameters (useful to set to 'full' for some cases) \n",
    "        dilate_smooth=True, # whether to include kprime (observed k in AP effect) in certain terms in the redshift space power spectrum model (rather than use k_true)\n",
    "        n_poly=3, # number of polynomial terms to model for broadband power spectrum for BAO fits - this is just a modelling choice  \n",
    "        vary_neff=False, # whether to vary Neff cosmo parameter (just put here for testing stuff) \n",
    "        vary_phase_shift_neff=False, # whether to vary the phase-shift parameter (Neff induced phase shift in BAOs, can be fitted as additional parameter)\n",
    "        use_classorcamb='CAMB' # can set to 'CLASS' to compute a power spectrum using CLASS instead of CAMB \n",
    ") \n",
    "\n",
    "cosmology = { # set values of cosmological parameters if desired (otherwise a default choice is used)\n",
    "            \"om\": 0.31,\n",
    "            \"h0\": 0.67,\n",
    "            \"z\":  0.51,\n",
    "            \"ob\": 0.048,\n",
    "            \"ns\": 0.97,\n",
    "            \"mnu\": 0.0,\n",
    "            \"reconsmoothscale\": 15,\n",
    "            \"Neff\": 3.044,\n",
    "        }\n",
    "\n",
    "model.parent.set_cosmology(cosmology) # initialises self.camb object for parent class from bao_power.py \n",
    "# in Barry the correlation function is computed by fourier transforming the power spectrum \n",
    "dat = model.parent.camb.get_data() # this loads / computes the data \n",
    "k, pk = dat[\"ks\"], dat[\"pk_lin\"]\n",
    "\n",
    "model.pk2xi_0 = PowerToCorrelationGauss(k, ell=0) # setting up a function to fourier transform the power spectrum - some choices are available in \n",
    "# barry.cosmology (see pk2xi.py) \n",
    "#model.pk2xi_0 = PowerToCorrelationSphericalBessel(ell=0)\n",
    "\n",
    "dists = np.linspace(0, 200, 200) # set up an array of length scales \n",
    "s, xi = dists, model.pk2xi_0(k, pk, dists) # get the correlation function by doing the fourier transform \n",
    "\n",
    "plt.plot(s, xi* (s**2))\n",
    "\n",
    "print(\"Beutler et al 2017 power spectrum model to BAO\")\n",
    "plt.title(\"Correlation function\")\n",
    "plt.xlabel(r'$s$ $\\mathrm{Mpc}$ $h^{-1}$')\n",
    "plt.ylabel(r'$s^2 \\xi(s)$ $\\mathrm{Mpc}^2$ $h^{-2}$')\n",
    "plt.show()"
   ]
  },
  {
   "cell_type": "markdown",
   "id": "dd458367-7e89-4c6e-8fc1-34b7107b7d1e",
   "metadata": {},
   "source": [
    "### now get the monopole / quadrupole "
   ]
  },
  {
   "cell_type": "code",
   "execution_count": null,
   "id": "d69c2251-1598-48e1-8b4a-cd34c5a59492",
   "metadata": {
    "tags": []
   },
   "outputs": [],
   "source": [
    "# model.pk2xi_0 = PowerToCorrelationGauss(k, ell=0)\n",
    "# model.pk2xi_2 = PowerToCorrelationGauss(k, ell=2)\n",
    "# model.pk2xi_4 = PowerToCorrelationGauss(k, ell=4)\n",
    "\n",
    "model.pk2xi_0 = PowerToCorrelationSphericalBessel(k, ell=0)\n",
    "model.pk2xi_2 = PowerToCorrelationSphericalBessel(k, ell=2)\n",
    "model.pk2xi_4 = PowerToCorrelationSphericalBessel(k, ell=4)\n",
    "\n",
    "ax1 = plt.subplot(131)\n",
    "ax2 = plt.subplot(132)\n",
    "ax3 = plt.subplot(133)\n",
    "\n",
    "params_dict = {j.name: j.default for j in model.params}\n",
    "params_dict['beta'] = 0.525\n",
    "\n",
    "dists = np.linspace(1, 200, 200)\n",
    "s, xi, poly = model.compute_correlation_function(dists, params_dict, vary_neff=True)\n",
    "ax1.plot(s, xi[0] * (s**2))\n",
    "ax2.plot(s, xi[1] * (s**2))\n",
    "ax3.plot(s, xi[2] * (s**2))\n",
    "\n",
    "ax1.set_title(\"Correlation monopole\")\n",
    "ax2.set_title(\"Correlation quadrupole\")\n",
    "ax3.set_title(\"Correlation hexadecapole\")\n",
    "\n",
    "ax1.set_xlabel(r'$s$ $\\mathrm{Mpc}$ $h^{-1}$')\n",
    "ax2.set_xlabel(r'$s$ $\\mathrm{Mpc}$ $h^{-1}$')\n",
    "ax3.set_xlabel(r'$s$ $\\mathrm{Mpc}$ $h^{-1}$')\n",
    "\n",
    "ax1.set_ylabel(r'$s^2 \\xi(s)$ $\\mathrm{Mpc}^2$ $h^{-2}$')\n",
    "\n",
    "plt.subplots_adjust(wspace=0.2, left=0, right=2.0)    \n",
    "plt.show()"
   ]
  },
  {
   "cell_type": "markdown",
   "id": "babeb583-d73c-4d1e-af74-74ad6c53dbea",
   "metadata": {},
   "source": [
    "## load and plot some preprocessed data and a correlation function model"
   ]
  },
  {
   "cell_type": "code",
   "execution_count": null,
   "id": "a447c742-2b65-452a-987c-4e301593ba1e",
   "metadata": {},
   "outputs": [],
   "source": [
    "import sys \n",
    "sys.path.append(\"../\")\n",
    "import barry \n",
    "import numpy as np\n",
    "import matplotlib.pyplot as plt \n",
    "from barry.models import CorrBeutler2017 # - importing a powerspectrum model \n",
    "from barry.cosmology.pk2xi import *#pk2xi\n",
    "# loading some pre-processed data \n",
    "from barry.datasets.dataset_correlation_function import CorrelationFunction_DESI_KP4\n",
    "from barry.models.model import Correction # class for applying corrections to the likelihood function \n",
    "\n",
    "dataset_xi = CorrelationFunction_DESI_KP4(\n",
    "    recon='sym',\n",
    "    fit_poles=[0, 2,4],\n",
    "    min_dist=52.0,\n",
    "    max_dist=150.0,\n",
    "    realisation=None,\n",
    "    num_mocks=1000,\n",
    "    reduce_cov_factor=25,\n",
    "    datafile=\"desi_kp4_abacus_cubicbox_xi_elg.pkl\",\n",
    "    data_location=\"/global/u1/a/abbew25/barryrepo/Barry/cosmodesi_KP4ELG_examplecode_make_picklefiles\",\n",
    "            )\n",
    "\n",
    "dataset_xi.set_realisation(None) # setting to None sets to the mean of the mocks, otherwise mocks go from realisations 0 - 24 \n",
    "\n",
    "# now set up some choice of model \n",
    "model = CorrBeutler2017(\n",
    "    recon=dataset_xi.recon, # sets recon or prerecon\n",
    "    isotropic=dataset_xi.isotropic, # sets isotropic or not isotropic \n",
    "    marg=\"full\", # sets marginalisation over nuisance parameters \n",
    "    poly_poles=dataset_xi.fit_poles, # sets poles to use \n",
    "    correction=Correction.NONE, # ??? \n",
    "    n_poly=5,    # 4 polynomial terms for Xi(s)\n",
    ")\n",
    "\n",
    "# you can set the default values of parameters to something if desired (otherwise a default will exist for most things) \n",
    "# - commented out bit is only necessary if you want to include some kind of prior (gaussian or flat) \n",
    "# these nuisance parameters can be different depending on whether the model is isotropic or not. \n",
    "# can check using print(model.params) and various functions can be used to check if they are fixed or active in a fit / analysis \n",
    "model.set_default(\"sigma_nl_par\", 5.4)#, min=0.0, max=20.0, sigma=4.0, prior=\"gaussian\")\n",
    "model.set_default(\"sigma_nl_perp\", 1.5)#, min=0.0, max=20.0, sigma=4.0, prior=\"gaussian\")\n",
    "model.set_default(\"sigma_s\", 0.0)# , min=0.0, max=20.0, sigma=4.0, prior=\"gaussian\")\n",
    "\n",
    "# to plot the data against the model do:\n",
    "model.set_data(dataset_xi.get_data())\n",
    "ks = model.camb.ks\n",
    "params_dict = {j.name: j.default for j in model.params}\n",
    "\n",
    "# running the following will give a model (mods) and smoothed model (smooths) and best fit chi square\n",
    "# - having set model.marg='full' ensures that nuisance parameters for the broadband power spectrum and the galaxy bias are pre-marginalised over\n",
    "new_chi_squared, dof, bband, mods, smooths = model.get_model_summary(params_dict)\n",
    "\n",
    "# need to index with smooths[0][0] for example to get the smoothed monopole \n",
    "\n",
    "# to get the data stuff you might want to plot call: \n",
    "# ks = dataset_pk.ks \n",
    "# monopole = dataset_pk.data[:,0] # for monopole \n",
    "# err = np.sqrt(np.diag(dataset_pk.cov[0:56,0:56])) # errors on monopole measurements, given length of ks is 56 \n",
    "\n",
    "# model.get_model_summary() is also called if the following function is used (which makes a nice plot for you) \n",
    "model.plot(params_dict)"
   ]
  },
  {
   "cell_type": "code",
   "execution_count": null,
   "id": "e8f32f7b-5540-477d-9815-e1d1d2912aa2",
   "metadata": {},
   "outputs": [],
   "source": []
  }
 ],
 "metadata": {
  "kernelspec": {
   "display_name": "barry_env_desiproject_aw",
   "language": "python",
   "name": "barry_env_desiproject_aw"
  },
  "language_info": {
   "codemirror_mode": {
    "name": "ipython",
    "version": 3
   },
   "file_extension": ".py",
   "mimetype": "text/x-python",
   "name": "python",
   "nbconvert_exporter": "python",
   "pygments_lexer": "ipython3",
   "version": "3.11.8"
  }
 },
 "nbformat": 4,
 "nbformat_minor": 5
}
