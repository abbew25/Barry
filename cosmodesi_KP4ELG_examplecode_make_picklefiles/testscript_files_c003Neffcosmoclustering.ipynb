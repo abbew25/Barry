{
 "cells": [
  {
   "cell_type": "markdown",
   "id": "f640c75c-589d-4a9d-8d6f-d822743ca33c",
   "metadata": {},
   "source": [
    "## just having a look at the clustering measurements for testing "
   ]
  },
  {
   "cell_type": "code",
   "execution_count": null,
   "id": "d90bef96-2796-4e8c-ab5b-8ec1c7380e9e",
   "metadata": {
    "tags": []
   },
   "outputs": [],
   "source": [
    "import pandas as pd \n",
    "import numpy as np \n",
    "import matplotlib.pyplot as plt \n",
    "import pickle as p\n",
    "from pypower import PowerSpectrumMultipoles\n"
   ]
  },
  {
   "cell_type": "code",
   "execution_count": null,
   "id": "526e613c-82c3-4bbf-96e3-e27d4be71900",
   "metadata": {
    "tags": []
   },
   "outputs": [],
   "source": [
    "path = '/global/cfs/cdirs/desicollab/users/alexpzfz/KP4/fiducial_cosmo/CubicBox/Pk/ELG/AbacusSummit_base_c003_SV3/los_x/'\n",
    "filename = 'Pk_ELG_snap16_multigrid_nmesh512_sm10_f0.888_b1.20_recsym_Grid000_ph000.npy'\n",
    "#filename = 'Pk_ELG_snap16_Grid000_ph003.npy'\n",
    "\n",
    "#dat = np.load(path+filename, allow_pickle=True)\n",
    "\n",
    "#d = dat[()] # weird way to read in the files .... \n",
    "\n",
    "# for i in d:\n",
    "    \n",
    "#     print(i)\n",
    "\n",
    "# print('----------')\n",
    "# print(d['name']) # just 'multipole' \n",
    "# print(d['modes'][0].shape) # k modes \n",
    "# print(d['edges'][0])#.shape) # k bin edges \n",
    "# print(d['power_direct_nonorm'][0].shape) # array of zeros ????????????????\n",
    "# print(d['power_nonorm'][0].shape) # actually a power spectrum? \n",
    "# print(d['power_zero_nonorm']) # 3 random numbers that are complex (idk y)\n",
    "# print(d['sep_direct']) # actually just 'None'\n",
    "# print(d['nmodes'].shape) # dont know \n",
    "# print(d['wnorm']) # single number \n",
    "# print(d['shotnoise_nonorm']) # single number \n",
    "# print(d['corr_direct_nonorm']) # actually None \n",
    "# print(d['ells'])\n",
    "# print(d['attrs'])\n",
    "\n",
    "# plt.subplots_adjust(wspace=0.5, hspace=0.5, right=2.0, left=0.0, bottom=-.5)\n",
    "# plt.scatter(d['modes'][0][3:], np.real(d['power_nonorm'][0][3:]))# * d['modes'][0][3:]**2))\n",
    "\n",
    "\n",
    "\n",
    "poles = PowerSpectrumMultipoles.load(path+filename)\n",
    "#print(poles.k)\n",
    "print(poles.k)\n",
    "#print(poles.log_info())\n",
    "poles.slice(slice(0, 800))\n",
    "poles.rebin(5) # rebinning by a factor of 5 \n",
    "\n",
    "print(len(poles.k))\n",
    "\n",
    "k, pkell = poles(ell=(0,2,4), return_k=True, complex=False)\n",
    "print(k)\n",
    "bools = np.logical_not(np.isnan(k))\n",
    "k = k[bools]\n",
    "\n",
    "pk0, pk2, pk4 = pkell\n",
    "\n",
    "pk0 = pk0[bools]\n",
    "pk2 = pk2[bools]\n",
    "pk4 = pk4[bools]\n",
    "\n",
    "\n",
    "#print(np.min(k), np.max(k), len(k))\n",
    "\n",
    "#print(pkell2)\n",
    "#print(k)\n",
    "\n",
    "\n",
    "#print(k2)\n",
    "#print(k2)\n",
    "#print(abs(k2[1:] - k2[0:-1]))\n",
    "#print(abs(k[1:] - k[0:-1]))\n",
    "\n",
    "# print(dir(poles))\n",
    "# print(poles.edges[0].shape) # just 'multipole' \n",
    "# print(poles.modes[0].shape) \n",
    "# print(poles.k.shape)\n",
    "# print(poles.ells)\n",
    "# print(poles(ell=(0,2,4), return_k=True, complex=False))"
   ]
  },
  {
   "cell_type": "markdown",
   "id": "ebabbbdf-4741-4361-a710-eb39b31ca4dd",
   "metadata": {},
   "source": [
    "## looking at covariance matrices "
   ]
  },
  {
   "cell_type": "code",
   "execution_count": null,
   "id": "355a4bd7-d4fc-4eb4-9991-01d32a106de9",
   "metadata": {
    "tags": []
   },
   "outputs": [],
   "source": [
    "path = '/global/u2/c/crisjagq/HOD_tests/covariance_matrices/CovaPT/low_density/AnalyticCov_Gaussian_Pk_Abacus_CubicBox_hod_LNHOD.txt'\n",
    "cov_input = pd.read_csv(path, comment=\"#\", delim_whitespace=True, header=None).to_numpy()\n",
    "\n",
    "print(cov_input.shape)"
   ]
  },
  {
   "cell_type": "markdown",
   "id": "4c7c347c-0720-4da1-9d12-018cc3c89d32",
   "metadata": {},
   "source": [
    "## comparing to the other files we pickled for the ELG mocks "
   ]
  },
  {
   "cell_type": "code",
   "execution_count": null,
   "id": "a4c5844e-8e42-4081-8ed0-bf23cc902aab",
   "metadata": {
    "tags": []
   },
   "outputs": [],
   "source": [
    "loc = \"/global/cfs/cdirs/desi/cosmosim/KP45/MC/Clustering/AbacusSummit/CubicBox/ELG/Pk/Pre/Cristhian/txt_rebinned/\" # pre-recon \n",
    "loc2 = \"/global/cfs/cdirs/desi/cosmosim/KP45/MC/Clustering/AbacusSummit/CubicBox/ELG/Pk/Post/Cristhian/recsym/txt_rebinned/\" # post-recon\n",
    "filename = \"Pk_ELGlowDens_Abacus_c000_ph0\" # pre-recon\n",
    "filename2 = \"Pk_ELGlowDens_recsym_Abacus_c000_ph0\" # post-recon\n",
    "\n",
    "\n",
    "mydata = open(loc2 + '/' + filename2 + \"00\" + '.txt', 'r') \n",
    "lines=mydata.readlines()\n",
    "k  = []\n",
    "P0 = []\n",
    "P2 = []\n",
    "P4 = []\n",
    "for line in lines: # looping through lines in file to save k, monopole, quadrupole and hexadecapole \n",
    "    print(line)\n",
    "    if line.startswith('#'):\n",
    "        if line[4:17]=='galaxy_number':\n",
    "            num_gal = float(line.split()[2])\n",
    "            num_ran = num_gal * 20\n",
    "            boxsize = 2000\n",
    "            nbar_gal = num_gal/boxsize**3\n",
    "            nbar_ran = num_ran/boxsize**3\n",
    "            shot_noise_gal = 1/nbar_gal\n",
    "            shot_noise_ran = 1/nbar_ran\n",
    "            shot_noise = shot_noise_gal + shot_noise_ran\n",
    "            print(\"num_gal:\", num_gal, \"nbar_gal:\", nbar_gal, \"Shot-Noise:\", shot_noise)\n",
    "    else:\n",
    "        k.append(line.split()[1]) \n",
    "        P0.append(line.split()[3]) \n",
    "        P2.append(line.split()[4]) \n",
    "        P4.append(line.split()[5]) \n",
    "        mydata.close()\n",
    "        \n",
    "print(len(k))\n"
   ]
  },
  {
   "cell_type": "code",
   "execution_count": null,
   "id": "e40305ee-db3e-426c-97b6-630a512f7f22",
   "metadata": {
    "tags": []
   },
   "outputs": [],
   "source": [
    "#import pandas as pd \n",
    "import numpy as np \n",
    "import matplotlib.pyplot as plt \n",
    "#import pickle as p\n",
    "#from pypower import PowerSpectrumMultipoles\n",
    "\n",
    "pktemplate = np.loadtxt(\"DESI_Pk_template.dat\").T\n",
    "pktemplate2 = np.loadtxt(\"DESI_Pk_template_c003.dat\").T\n",
    "\n",
    "#plt.semilogx(pktemplate[0], (pktemplate[2]), label='cosmology 000')\n",
    "#plt.semilogx(pktemplate2[0], (pktemplate2[2]), label='cosmology 003')\n",
    "\n",
    "plt.semilogx(pktemplate[0], pktemplate[2] - pktemplate2[2])\n",
    "\n",
    "plt.show()"
   ]
  },
  {
   "cell_type": "code",
   "execution_count": null,
   "id": "eebdfc10-9f11-4c05-b91f-4a6577a3e798",
   "metadata": {},
   "outputs": [],
   "source": [
    "import pandas as pd \n",
    "import numpy as np \n",
    "import matplotlib.pyplot as plt \n",
    "import pickle as p\n",
    "from pypower import PowerSpectrumMultipoles\n",
    "import os \n",
    "# print(os.getcwd())\n",
    "\n",
    "path = '/global/u1/a/abbew25/barryrepo/Barry/cosmodesi_KP4ELG_examplecode_make_picklefiles/' \n",
    "path += 'DESI_SecondGen_sm10_elg_lop_ffa_gccomb_0.8_1.1_default_FKP_xi.pkl'\n",
    "\n",
    "# open a file, where you stored the pickled data\n",
    "with open(path, 'rb') as f:\n",
    "    # dump information to that file\n",
    "    dat = p.load(f)\n",
    "\n",
    "for i in dat:\n",
    "    if not 'mocks' in i:\n",
    "        print(i, dat[i])\n",
    "    else: \n",
    "        print(i, len(dat[i]))\n",
    "        \n",
    "\n",
    "# path = '/global/u1/a/abbew25/barryrepo/Barry/cosmodesi_KP4ELG_examplecode_make_picklefiles/' \n",
    "# path += 'desi_kp4_abacus_cubicbox_cv_xi_elg.pkl'\n",
    "\n",
    "# # open a file, where you stored the pickled data\n",
    "# with open(path, 'rb') as f:\n",
    "#     # dump information to that file\n",
    "#     dat = p.load(f)\n",
    "\n",
    "# for i in dat:\n",
    "#     print(i, dat[i])"
   ]
  },
  {
   "cell_type": "code",
   "execution_count": null,
   "id": "44203694-e1fa-4265-99dc-88e82348f80b",
   "metadata": {},
   "outputs": [],
   "source": []
  }
 ],
 "metadata": {
  "kernelspec": {
   "display_name": "barry_env_desiproject_aw",
   "language": "python",
   "name": "barry_env_desiproject_aw"
  },
  "language_info": {
   "codemirror_mode": {
    "name": "ipython",
    "version": 3
   },
   "file_extension": ".py",
   "mimetype": "text/x-python",
   "name": "python",
   "nbconvert_exporter": "python",
   "pygments_lexer": "ipython3",
   "version": "3.11.3"
  }
 },
 "nbformat": 4,
 "nbformat_minor": 5
}
